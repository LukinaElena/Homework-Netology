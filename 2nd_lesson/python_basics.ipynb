{
 "cells": [
  {
   "cell_type": "markdown",
   "metadata": {},
   "source": [
    "**Задание 1**. Даны 2 строки: *long_phrase* и *short_phrase*. \n",
    "Напишите код, который проверяет действительно ли длинная фраза *long_phrase* длиннее короткой *short_phrase*. И выводит *True* или *False* в зависимости от результата сравнения."
   ]
  },
  {
   "cell_type": "code",
   "execution_count": 27,
   "metadata": {},
   "outputs": [],
   "source": [
    "long_phrase = 'Насколько проще было бы писать программы, если бы не заказчики'\n",
    "short_phrase = '640Кб должно хватить для любых задач. Билл Гейтс (по легенде)'"
   ]
  },
  {
   "cell_type": "code",
   "execution_count": 28,
   "metadata": {},
   "outputs": [
    {
     "data": {
      "text/plain": [
       "True"
      ]
     },
     "execution_count": 28,
     "metadata": {},
     "output_type": "execute_result"
    }
   ],
   "source": [
    "len(long_phrase) > len(short_phrase)"
   ]
  },
  {
   "cell_type": "markdown",
   "metadata": {},
   "source": [
    "**Задание 2**. Дано значение объема файла в байтах (*в мегабайте 2^20 байт*). Напишите перевод этого значения в мегабайты в формате: \"*Объем файла равен 213.68Mb*\"."
   ]
  },
  {
   "cell_type": "code",
   "execution_count": 30,
   "metadata": {},
   "outputs": [
    {
     "name": "stdout",
     "output_type": "stream",
     "text": [
      "Объем файла равен:  213.68 Mb\n"
     ]
    }
   ],
   "source": [
    "b = 224059719.68 \n",
    "Mb = float(\"{0:.2f}\".format(b / 2**20))\n",
    "print('Объем файла равен: ', Mb, 'Mb')"
   ]
  },
  {
   "cell_type": "code",
   "execution_count": 17,
   "metadata": {},
   "outputs": [
    {
     "data": {
      "text/plain": [
       "224059719.68"
      ]
     },
     "execution_count": 17,
     "metadata": {},
     "output_type": "execute_result"
    }
   ],
   "source": [
    "213.68 * 2**20"
   ]
  },
  {
   "cell_type": "markdown",
   "metadata": {},
   "source": [
    "**Задание 3**. Разработать приложение для определения знака зодиака по дате рождения. Пример:\n",
    "\n",
    "Введите месяц: март\n",
    "\n",
    "Введите число: 6\n",
    "\n",
    "Вывод:\n",
    "Рыбы"
   ]
  },
  {
   "cell_type": "code",
   "execution_count": 5,
   "metadata": {},
   "outputs": [
    {
     "name": "stdout",
     "output_type": "stream",
     "text": [
      "Введите месяц:апрель\n",
      "Введите число:7\n",
      "Овен\n"
     ]
    }
   ],
   "source": [
    "month = input('Введите месяц:')\n",
    "day = int(input('Введите число:'))\n",
    "if ((month == 'декабрь') and (22 <= day <= 31)) or ((month == 'январь') and (1 <= day <= 20)):\n",
    "    print('Козерог')\n",
    "elif ((month == 'январь') and (21 <= day <= 31)) or ((month == 'февраль') and (1 <= day <= 19)):\n",
    "    print('Водолей')\n",
    "elif ((month == 'февраль') and (20 <= day <= 29)) or ((month == 'март') and (1 <= day <= 20)):\n",
    "    print('Рыбы')\n",
    "elif ((month == 'март') and (21 <= day <= 31)) or ((month == 'апрель') and (1 <= day <= 20)):\n",
    "    print('Овен')\n",
    "elif ((month == 'апрель') and (21 <= day <= 30)) or ((month == 'май') and (1 <= day <= 21)):\n",
    "    print('Телец')\n",
    "elif ((month == 'май') and (22 <= day <= 31)) or ((month == 'июнь') and (1 <= day <= 21)):\n",
    "    print('Близнецы') \n",
    "elif ((month == 'июнь') and (22 <= day <= 30)) or ((month == 'июль') and (1 <= day <= 23)):\n",
    "    print('Рак')\n",
    "elif ((month == 'июль') and (24 <= day <= 31)) or ((month == 'август') and (1 <= day <= 23)):\n",
    "    print('Лев')\n",
    "elif ((month == 'август') and (24 <= day <= 31)) or ((month == 'сентябрь') and (1 <= day <= 23)):\n",
    "    print('Дева')\n",
    "elif ((month == 'сентябрь') and (24 <= day <= 30)) or ((month == 'октябрь') and (1 <= day <= 23)):\n",
    "    print('Весы')\n",
    "elif ((month == 'октябрь') and (24 <= day <= 31)) or ((month == 'ноябрь') and (1 <= day <= 22)):\n",
    "    print('Скорпион')\n",
    "elif ((month == 'ноябрь') and (23 <= day <= 30)) or ((month == 'декабрь') and (1 <= day <= 22)):\n",
    "    print('Стрелец')\n",
    "else:\n",
    "    print('Ошибка ввода') "
   ]
  },
  {
   "cell_type": "markdown",
   "metadata": {},
   "source": [
    "**Задание 4**. Нужно разработать приложение для финансового планирования.\n",
    "Приложение учитывает сколько уходит на ипотеку, \"на жизнь\" и сколько нужно отложить на пенсию.\n",
    "Пользователь вводит:\n",
    "- заработанную плату в месяц.\n",
    "- сколько процентов от ЗП уходит на ипотеку.\n",
    "- сколько процентов от ЗП уходит \"на жизнь\".\n",
    "- сколько раз приходит премия в год.\n",
    "\n",
    "Остальная часть заработанной платы откладывается на пенсию.\n",
    "\n",
    "Также пользователю приходит премия в размере зарплаты, от которой половина уходит на отпуск, а вторая половина откладывается.\n",
    "\n",
    "Программа должна учитывать сколько премий было в год.\n",
    "\n",
    "Нужно вывести сколько денег тратит пользователь на ипотеку и сколько он накопит за год.\n",
    "\n",
    "Пример:\n",
    "\n",
    "Введите заработанную плату в месяц: 100000\n",
    "\n",
    "Введите сколько процентов уходит на ипотеку: 30\n",
    "\n",
    "Введите сколько процентов уходит на жизнь: 50\n",
    "\n",
    "Введите количество премий за год: 2\n",
    "\n",
    "Вывод:\n",
    "На ипотеку было потрачено: 360000 рублей\n",
    "Было накоплено: 340000 рублей"
   ]
  },
  {
   "cell_type": "code",
   "execution_count": 1,
   "metadata": {},
   "outputs": [
    {
     "name": "stdout",
     "output_type": "stream",
     "text": [
      "Введите заработную плату в месяц:\n",
      "100000\n",
      "Введите сколько процентов от ЗП уходит на ипотеку:\n",
      "30\n",
      "Введите сколько процентов от ЗП уходит на жизнь:\n",
      "50\n",
      "Введите количество премий за год:\n",
      "2\n",
      "На ипотеку было потрачено:  360000 рублей Было накоплено:  340000 рублей\n"
     ]
    }
   ],
   "source": [
    "print('Введите заработную плату в месяц:')\n",
    "salary = int(input())\n",
    "print('Введите сколько процентов от ЗП уходит на ипотеку:')\n",
    "mortgage_percent = int(input())\n",
    "print('Введите сколько процентов от ЗП уходит на жизнь:')\n",
    "daily_percent = int(input())\n",
    "print('Введите количество премий за год:')\n",
    "bonus_qty = int(input())\n",
    "mortgage = mortgage_percent * salary / 100\n",
    "daily = daily_percent * salary / 100\n",
    "bonus = salary\n",
    "save = salary - mortgage - daily\n",
    "print('На ипотеку было потрачено: ', int(mortgage * 12) , 'рублей', 'Было накоплено: ', int(save * 12 + bonus * bonus_qty / 2), 'рублей')"
   ]
  },
  {
   "cell_type": "code",
   "execution_count": 7,
   "metadata": {},
   "outputs": [
    {
     "name": "stdout",
     "output_type": "stream",
     "text": [
      "Введите заработную плату в месяц: 100000\n",
      "Введите сколько процентов от ЗП уходит на ипотеку: 30\n",
      "Введите сколько процентов от ЗП уходит на жизнь: 50\n",
      "Введите количество премий за год: 2\n",
      "На ипотеку было потрачено: 360000, рублей Было накоплено: 340000 рублей\n"
     ]
    }
   ],
   "source": [
    "salary = int(input('Введите заработную плату в месяц: '))\n",
    "mortgage_percent = int(input('Введите сколько процентов от ЗП уходит на ипотеку: '))\n",
    "daily_percent = int(input('Введите сколько процентов от ЗП уходит на жизнь: '))\n",
    "bonus_qty = int(input('Введите количество премий за год: '))\n",
    "mortgage = mortgage_percent * salary / 100\n",
    "daily = daily_percent * salary / 100\n",
    "bonus = salary\n",
    "save = salary - mortgage - daily\n",
    "t = f\"На ипотеку было потрачено: {int(mortgage * 12)}, рублей Было накоплено: {int(save * 12 + bonus * bonus_qty / 2)} рублей\"\n",
    "print(t)"
   ]
  }
 ],
 "metadata": {
  "kernelspec": {
   "display_name": "Python 3",
   "language": "python",
   "name": "python3"
  },
  "language_info": {
   "codemirror_mode": {
    "name": "ipython",
    "version": 3
   },
   "file_extension": ".py",
   "mimetype": "text/x-python",
   "name": "python",
   "nbconvert_exporter": "python",
   "pygments_lexer": "ipython3",
   "version": "3.7.4"
  }
 },
 "nbformat": 4,
 "nbformat_minor": 2
}
